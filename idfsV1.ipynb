{
  "nbformat": 4,
  "nbformat_minor": 0,
  "metadata": {
    "colab": {
      "name": "idfsV1.ipynb",
      "provenance": [],
      "collapsed_sections": [
        "ZMLWcBS82FIb",
        "D1W9ITkt3Sou"
      ],
      "authorship_tag": "ABX9TyOxZN7q+ADgH8gVqVuy5OwY",
      "include_colab_link": true
    },
    "kernelspec": {
      "name": "python3",
      "display_name": "Python 3"
    }
  },
  "cells": [
    {
      "cell_type": "markdown",
      "metadata": {
        "id": "view-in-github",
        "colab_type": "text"
      },
      "source": [
        "<a href=\"https://colab.research.google.com/github/ravellys/PAER/blob/master/idfsV1.ipynb\" target=\"_parent\"><img src=\"https://colab.research.google.com/assets/colab-badge.svg\" alt=\"Open In Colab\"/></a>"
      ]
    },
    {
      "cell_type": "markdown",
      "metadata": {
        "id": "j9OswZb51x9W"
      },
      "source": [
        "# Geração de IDFs\n",
        "## UFPE - CAA -  Hidrologia 2020.1"
      ]
    },
    {
      "cell_type": "markdown",
      "metadata": {
        "id": "ZMLWcBS82FIb"
      },
      "source": [
        "## Dados utilizados"
      ]
    },
    {
      "cell_type": "code",
      "metadata": {
        "id": "3VAIfE1l2EiJ"
      },
      "source": [
        "import pandas as pd"
      ],
      "execution_count": null,
      "outputs": []
    },
    {
      "cell_type": "code",
      "metadata": {
        "id": "Sl3osFTdnVXB"
      },
      "source": [
        "nome_arquivo = 'data.csv'\n",
        "df = pd.read_csv(nome_arquivo, sep='\\t')"
      ],
      "execution_count": null,
      "outputs": []
    },
    {
      "cell_type": "code",
      "metadata": {
        "colab": {
          "base_uri": "https://localhost:8080/",
          "height": 297
        },
        "id": "6y_RDzLY2Uuh",
        "outputId": "80577f73-1775-4a34-ee9d-a87e8865d3d9"
      },
      "source": [
        "df.describe()"
      ],
      "execution_count": null,
      "outputs": [
        {
          "output_type": "execute_result",
          "data": {
            "text/html": [
              "<div>\n",
              "<style scoped>\n",
              "    .dataframe tbody tr th:only-of-type {\n",
              "        vertical-align: middle;\n",
              "    }\n",
              "\n",
              "    .dataframe tbody tr th {\n",
              "        vertical-align: top;\n",
              "    }\n",
              "\n",
              "    .dataframe thead th {\n",
              "        text-align: right;\n",
              "    }\n",
              "</style>\n",
              "<table border=\"1\" class=\"dataframe\">\n",
              "  <thead>\n",
              "    <tr style=\"text-align: right;\">\n",
              "      <th></th>\n",
              "      <th>Year</th>\n",
              "      <th>P(mm)</th>\n",
              "    </tr>\n",
              "  </thead>\n",
              "  <tbody>\n",
              "    <tr>\n",
              "      <th>count</th>\n",
              "      <td>40.000000</td>\n",
              "      <td>40.000000</td>\n",
              "    </tr>\n",
              "    <tr>\n",
              "      <th>mean</th>\n",
              "      <td>1998.500000</td>\n",
              "      <td>59.367500</td>\n",
              "    </tr>\n",
              "    <tr>\n",
              "      <th>std</th>\n",
              "      <td>11.690452</td>\n",
              "      <td>33.997703</td>\n",
              "    </tr>\n",
              "    <tr>\n",
              "      <th>min</th>\n",
              "      <td>1979.000000</td>\n",
              "      <td>20.900000</td>\n",
              "    </tr>\n",
              "    <tr>\n",
              "      <th>25%</th>\n",
              "      <td>1988.750000</td>\n",
              "      <td>40.125000</td>\n",
              "    </tr>\n",
              "    <tr>\n",
              "      <th>50%</th>\n",
              "      <td>1998.500000</td>\n",
              "      <td>49.900000</td>\n",
              "    </tr>\n",
              "    <tr>\n",
              "      <th>75%</th>\n",
              "      <td>2008.250000</td>\n",
              "      <td>69.600000</td>\n",
              "    </tr>\n",
              "    <tr>\n",
              "      <th>max</th>\n",
              "      <td>2018.000000</td>\n",
              "      <td>186.800000</td>\n",
              "    </tr>\n",
              "  </tbody>\n",
              "</table>\n",
              "</div>"
            ],
            "text/plain": [
              "              Year       P(mm)\n",
              "count    40.000000   40.000000\n",
              "mean   1998.500000   59.367500\n",
              "std      11.690452   33.997703\n",
              "min    1979.000000   20.900000\n",
              "25%    1988.750000   40.125000\n",
              "50%    1998.500000   49.900000\n",
              "75%    2008.250000   69.600000\n",
              "max    2018.000000  186.800000"
            ]
          },
          "metadata": {
            "tags": []
          },
          "execution_count": 8
        }
      ]
    },
    {
      "cell_type": "code",
      "metadata": {
        "colab": {
          "base_uri": "https://localhost:8080/"
        },
        "id": "iSRofn962UtG",
        "outputId": "727f4929-7873-4126-d62c-a285864f35b6"
      },
      "source": [
        "df.info()"
      ],
      "execution_count": null,
      "outputs": [
        {
          "output_type": "stream",
          "text": [
            "<class 'pandas.core.frame.DataFrame'>\n",
            "RangeIndex: 40 entries, 0 to 39\n",
            "Data columns (total 2 columns):\n",
            " #   Column  Non-Null Count  Dtype  \n",
            "---  ------  --------------  -----  \n",
            " 0   Year    40 non-null     int64  \n",
            " 1   P(mm)   40 non-null     float64\n",
            "dtypes: float64(1), int64(1)\n",
            "memory usage: 768.0 bytes\n"
          ],
          "name": "stdout"
        }
      ]
    },
    {
      "cell_type": "code",
      "metadata": {
        "colab": {
          "base_uri": "https://localhost:8080/",
          "height": 296
        },
        "id": "8bWQ3CGz2RP8",
        "outputId": "07c3bcca-f754-4941-dbdf-1d841581e208"
      },
      "source": [
        "df.plot(kind='scatter', x='Year', y='P(mm)', grid=True)"
      ],
      "execution_count": null,
      "outputs": [
        {
          "output_type": "execute_result",
          "data": {
            "text/plain": [
              "<matplotlib.axes._subplots.AxesSubplot at 0x7fb70d382110>"
            ]
          },
          "metadata": {
            "tags": []
          },
          "execution_count": 15
        },
        {
          "output_type": "display_data",
          "data": {
            "image/png": "[encoded data removed]",
            "text/plain": [
              "<Figure size 432x288 with 1 Axes>"
            ]
          },
          "metadata": {
            "tags": [],
            "needs_background": "light"
          }
        }
      ]
    },
    {
      "cell_type": "markdown",
      "metadata": {
        "id": "D1W9ITkt3Sou"
      },
      "source": [
        "## Inferência estatistica"
      ]
    },
    {
      "cell_type": "markdown",
      "metadata": {
        "id": "gE3d9Jg93hm4"
      },
      "source": [
        "## Método Weibull"
      ]
    },
    {
      "cell_type": "code",
      "metadata": {
        "id": "CpIApkH92TYx"
      },
      "source": [
        "# frequência empirica\n",
        "def f_emp(n):\n",
        "  f = []\n",
        "  for i in range(1, n+1):\n",
        "    f.append(i/(n+1))\n",
        "  return f \n",
        "\n",
        "# essa função pode ser resumida como [i/(n + 1) for i in range(1,n+1)]"
      ],
      "execution_count": null,
      "outputs": []
    },
    {
      "cell_type": "code",
      "metadata": {
        "colab": {
          "base_uri": "https://localhost:8080/"
        },
        "id": "SDzYJzhe34_j",
        "outputId": "4db53afd-3880-4e04-8e9e-b9f94c1319ea"
      },
      "source": [
        "f_emp(10)"
      ],
      "execution_count": null,
      "outputs": [
        {
          "output_type": "execute_result",
          "data": {
            "text/plain": [
              "[0.09090909090909091,\n",
              " 0.18181818181818182,\n",
              " 0.2727272727272727,\n",
              " 0.36363636363636365,\n",
              " 0.45454545454545453,\n",
              " 0.5454545454545454,\n",
              " 0.6363636363636364,\n",
              " 0.7272727272727273,\n",
              " 0.8181818181818182,\n",
              " 0.9090909090909091]"
            ]
          },
          "metadata": {
            "tags": []
          },
          "execution_count": 34
        }
      ]
    },
    {
      "cell_type": "code",
      "metadata": {
        "id": "0ZLHQMKW4YjL"
      },
      "source": [
        "precipitacoes = sorted(df['P(mm)'].to_list()) # precipitações ordenadas do menor para o maior\n",
        "numero_anos = len(precipitacoes)\n",
        "f_exced = f_emp(numero_anos)\n",
        "f_nao_exced = [1 - f for f in f_exced]"
      ],
      "execution_count": null,
      "outputs": []
    },
    {
      "cell_type": "code",
      "metadata": {
        "id": "adiQtaaf47if"
      },
      "source": [
        "df_curvapermanecia = pd.DataFrame({\n",
        "    'f_exced': f_nao_exced,\n",
        "    'P_emp(mm)': precipitacoes\n",
        "})"
      ],
      "execution_count": null,
      "outputs": []
    },
    {
      "cell_type": "code",
      "metadata": {
        "colab": {
          "base_uri": "https://localhost:8080/",
          "height": 297
        },
        "id": "pVJiIE2o48o5",
        "outputId": "bcd8db68-0464-479b-b732-45d777c561e8"
      },
      "source": [
        "df_curvapermanecia.plot(kind='scatter', x='P_emp(mm)', y='f_exced', grid=True)"
      ],
      "execution_count": null,
      "outputs": [
        {
          "output_type": "execute_result",
          "data": {
            "text/plain": [
              "<matplotlib.axes._subplots.AxesSubplot at 0x7fb7086d7f10>"
            ]
          },
          "metadata": {
            "tags": []
          },
          "execution_count": 70
        },
        {
          "output_type": "display_data",
          "data": {
            "image/png": "[encoded data removed]",
            "text/plain": [
              "<Figure size 432x288 with 1 Axes>"
            ]
          },
          "metadata": {
            "tags": [],
            "needs_background": "light"
          }
        }
      ]
    },
    {
      "cell_type": "markdown",
      "metadata": {
        "id": "I1beNDDr7YJn"
      },
      "source": [
        "## Ajuste a Gumbel"
      ]
    },
    {
      "cell_type": "code",
      "metadata": {
        "id": "a34e3tQl60sm"
      },
      "source": [
        "import statistics\n",
        "import math\n",
        "\n",
        "PI = math.pi\n",
        "desvio_padrao = statistics.pstdev(precipitacoes) \n",
        "media = statistics.mean(precipitacoes)\n",
        "\n",
        "# parametros da distribuição de gumbel\n",
        "beta = ( 6 ** 0.5 ) * desvio_padrao / PI\n",
        "alfa = media - 0.577*beta"
      ],
      "execution_count": null,
      "outputs": []
    },
    {
      "cell_type": "code",
      "metadata": {
        "colab": {
          "base_uri": "https://localhost:8080/"
        },
        "id": "fJkafFmS9Svw",
        "outputId": "c8ea4cd0-8010-4650-cf9f-1fb4b6bf8e93"
      },
      "source": [
        "def F_gumbel(y, alfa, beta):\n",
        "  z = (y - alfa) / beta\n",
        "  return 1 - math.exp(-math.exp(-z))\n",
        "\n",
        "def P_gumbel(f, alfa, beta):\n",
        "  z = -math.log(-math.log(1 - f))\n",
        "  return alfa + z * beta\n",
        "\n",
        "print(F_gumbel(50, alfa, beta))\n",
        "print(P_gumbel(0.55, alfa, beta))"
      ],
      "execution_count": null,
      "outputs": [
        {
          "output_type": "stream",
          "text": [
            "0.5521204950379851\n",
            "50.15437153117119\n"
          ],
          "name": "stdout"
        }
      ]
    },
    {
      "cell_type": "code",
      "metadata": {
        "colab": {
          "base_uri": "https://localhost:8080/",
          "height": 279
        },
        "id": "25parymT-erT",
        "outputId": "2f791d31-899e-41fb-ce87-4b113d432799"
      },
      "source": [
        "## Plotando função\n",
        "\n",
        "import matplotlib\n",
        "import matplotlib.pyplot as plt\n",
        "import numpy as np\n",
        "\n",
        "# Data para plotagem\n",
        "precipitacoes_numpy = np.arange(precipitacoes[0], precipitacoes[-1], 0.01)\n",
        "frequencia_gumbel_numpy = np.array([F_gumbel(i, alfa, beta) for i in p])\n",
        "\n",
        "fig, ax = plt.subplots()\n",
        "ax.plot(precipitacoes_numpy, frequencia_gumbel_numpy, label='Estimado')\n",
        "\n",
        "ax.set(xlabel='Precipitação (mm)', ylabel='Probabilidade de ser igualada ou superada',\n",
        "       title='',)\n",
        "ax.grid()\n",
        "ax.legend()\n",
        "\n",
        "plt.show()"
      ],
      "execution_count": null,
      "outputs": [
        {
          "output_type": "display_data",
          "data": {
            "image/png": "[encoded data removed]",
            "text/plain": [
              "<Figure size 432x288 with 1 Axes>"
            ]
          },
          "metadata": {
            "tags": [],
            "needs_background": "light"
          }
        }
      ]
    },
    {
      "cell_type": "code",
      "metadata": {
        "colab": {
          "base_uri": "https://localhost:8080/",
          "height": 279
        },
        "id": "ZqZLzsub_6F7",
        "outputId": "a1156440-661a-4b19-a820-0a3ad7cd97d4"
      },
      "source": [
        "# comparando frequencias\n",
        "fig, ax = plt.subplots()\n",
        "ax.plot(precipitacoes_numpy, frequencia_gumbel_numpy, label='Estimado')\n",
        "ax.plot(df_curvapermanecia['P_emp(mm)'], df_curvapermanecia['f_exced'], 'o', label='Observado')\n",
        "\n",
        "ax.set(xlabel='Precipitação (mm)', ylabel='Probabilidade de ser igualada ou superada',\n",
        "       title='',)\n",
        "ax.grid()\n",
        "ax.legend()\n",
        "\n",
        "plt.show()"
      ],
      "execution_count": null,
      "outputs": [
        {
          "output_type": "display_data",
          "data": {
            "image/png": "[encoded data removed]",
            "text/plain": [
              "<Figure size 432x288 with 1 Axes>"
            ]
          },
          "metadata": {
            "tags": [],
            "needs_background": "light"
          }
        }
      ]
    },
    {
      "cell_type": "code",
      "metadata": {
        "id": "gzDune06UFPw"
      },
      "source": [
        "# Avaliar outras duas distribuições ( Weibull, GEV)"
      ],
      "execution_count": null,
      "outputs": []
    },
    {
      "cell_type": "code",
      "metadata": {
        "id": "s8qDayPVIUIp"
      },
      "source": [
        "# teste de aderência Kolmogorov-Smirnov, Anderson-Darlling e QuiQuadrado\n"
      ],
      "execution_count": null,
      "outputs": []
    },
    {
      "cell_type": "markdown",
      "metadata": {
        "id": "TPEW0sQSB-aw"
      },
      "source": [
        "## Desagregando **chuvas**"
      ]
    },
    {
      "cell_type": "code",
      "metadata": {
        "id": "ZkxX1ffYBekX"
      },
      "source": [
        "def intensidade_bell(Tr, t, p_2_60):\n",
        "  return (0.31*math.log(Tr) + 0.7) * (0.38 * t ** 0.31 - 0.39) * p_2_60 / (t/60)\n"
      ],
      "execution_count": null,
      "outputs": []
    },
    {
      "cell_type": "code",
      "metadata": {
        "id": "vzPNcFghC4nO"
      },
      "source": [
        "p_2_60 = 0.51 * P_gumbel(1/2, alfa, beta)"
      ],
      "execution_count": null,
      "outputs": []
    },
    {
      "cell_type": "code",
      "metadata": {
        "id": "dWhBElOnGeVU"
      },
      "source": [
        "tr_gerado = np.array([2, 5, 10, 25, 50, 100])#np.linspace(2, 100, 10)\n",
        "t_gerado = np.linspace(5, 24*60, 1000)\n",
        "\n",
        "intensidade = []\n",
        "for row, tr in enumerate(tr_gerado):\n",
        "  intensidade.append([])\n",
        "  for t in t_gerado:\n",
        "    intensidade[row].append(intensidade_bell(tr, t, p_2_60))"
      ],
      "execution_count": null,
      "outputs": []
    },
    {
      "cell_type": "code",
      "metadata": {
        "colab": {
          "base_uri": "https://localhost:8080/",
          "height": 279
        },
        "id": "_vfWHQe7Jk0M",
        "outputId": "7ecf6ee3-8675-475a-a990-b3b7e8a87e6e"
      },
      "source": [
        "fig, ax = plt.subplots()\n",
        "for i, tr in zip(intensidade, tr_gerado):\n",
        "  ax.plot(t_gerado, i, label=f'{int(tr)} anos')\n",
        "\n",
        "ax.set(xlabel='duração(min)', ylabel=' i(mm/h)',\n",
        "       title='',)\n",
        "ax.grid()\n",
        "ax.legend()\n",
        "\n",
        "plt.show()"
      ],
      "execution_count": null,
      "outputs": [
        {
          "output_type": "display_data",
          "data": {
            "image/png": "[encoded data removed]",
            "text/plain": [
              "<Figure size 432x288 with 1 Axes>"
            ]
          },
          "metadata": {
            "tags": [],
            "needs_background": "light"
          }
        }
      ]
    },
    {
      "cell_type": "markdown",
      "metadata": {
        "id": "0PSwTkj5E_WE"
      },
      "source": [
        "## Cálculo dos parametros da IDF"
      ]
    },
    {
      "cell_type": "code",
      "metadata": {
        "id": "8UtSAW9tExLy"
      },
      "source": [
        "def idf (x, t, Tr):\n",
        "  a, b, c, d = x \n",
        "  return a * (b ** Tr) / (t + c) ** d"
      ],
      "execution_count": null,
      "outputs": []
    },
    {
      "cell_type": "code",
      "metadata": {
        "id": "kXIY72UqFOAf",
        "colab": {
          "base_uri": "https://localhost:8080/"
        },
        "outputId": "70094f44-9a57-46dc-f993-70e85de41bdf"
      },
      "source": [
        "# Determinação de c e d \n",
        "from scipy.optimize import curve_fit\n",
        "\n",
        "# Regressão não linear \n",
        "f_model = lambda t, A, c, d: A/(t+c) ** d\n",
        "A_lista = []\n",
        "c_lista = []\n",
        "d_lista = []\n",
        "for i in intensidade:\n",
        "  x = t_gerado\n",
        "  y = i\n",
        "    \n",
        "  popt, pcov = curve_fit(\n",
        "      f=f_model,       # model function\n",
        "      xdata=x,   # x data\n",
        "      ydata=y,   # y data\n",
        "      p0=(1000, 10, 1),      # initial value of the parameters\n",
        "  )\n",
        "  A, c, d = popt\n",
        "  c_lista.append(c)\n",
        "  d_lista.append(d)\n",
        "  A_lista.append(A)\n",
        "\n",
        "\n",
        "print(f'o parametro c é de {c_lista}')\n",
        "print(f'o parametro d é de {d_lista}')\n",
        "print(f'o parametro A é de {A_lista}')"
      ],
      "execution_count": 149,
      "outputs": [
        {
          "output_type": "stream",
          "text": [
            "o parametro c é de [7.260092898439834, 7.260092902056428, 7.260092944720669, 7.260092906513077, 7.260092910874262, 7.260092929487505]\n",
            "o parametro d é de [0.6384948400232741, 0.6384948400616159, 0.6384948405220203, 0.6384948401040242, 0.6384948401417451, 0.638494840349557]\n",
            "o parametro A é de [356.19646338809616, 466.7881633337026, 550.4475561942189, 661.0392547427617, 744.6986463223949, 828.3580387439016]\n"
          ],
          "name": "stdout"
        },
        {
          "output_type": "stream",
          "text": [
            "/usr/local/lib/python3.7/dist-packages/ipykernel_launcher.py:5: RuntimeWarning: invalid value encountered in power\n",
            "  \"\"\"\n"
          ],
          "name": "stderr"
        }
      ]
    },
    {
      "cell_type": "code",
      "metadata": {
        "id": "OU_59BCbRxy5"
      },
      "source": [
        "c = statistics.mean(c_lista)\n",
        "d = statistics.mean(d_lista)"
      ],
      "execution_count": 152,
      "outputs": []
    },
    {
      "cell_type": "code",
      "metadata": {
        "colab": {
          "base_uri": "https://localhost:8080/"
        },
        "id": "QByAsZScNcLo",
        "outputId": "b1e4a08c-0a2a-4bcb-d106-b2db15df3882"
      },
      "source": [
        " # determinando os parametros a e b\n",
        "f_model = lambda Tr, a, b: a* (Tr ** b)\n",
        "\n",
        "x = tr_gerado\n",
        "y = A_lista\n",
        "    \n",
        "popt, pcov = curve_fit(\n",
        "    f=f_model,       # model function\n",
        "    xdata=x,   # x data\n",
        "    ydata=y,   # y data\n",
        "    p0=(1000, 1),      # initial value of the parameters\n",
        ")\n",
        "a, b = popt\n",
        "\n",
        "print(f'o parametro a é de {round(a,2)}')\n",
        "print(f'o parametro b é de {round(b,2)}')\n",
        "print(f'o parametro c é de {round(c,2)}')\n",
        "print(f'o parametro d é de {round(d,2)}')"
      ],
      "execution_count": 163,
      "outputs": [
        {
          "output_type": "stream",
          "text": [
            "o parametro a é de 335.92\n",
            "o parametro b é de 0.2\n",
            "o parametro c é de 7.26\n",
            "o parametro d é de 0.64\n"
          ],
          "name": "stdout"
        }
      ]
    },
    {
      "cell_type": "code",
      "metadata": {
        "id": "M1iHXPAZSejJ"
      },
      "source": [
        "# Calcular métricas R² e RMSE"
      ],
      "execution_count": null,
      "outputs": []
    },
    {
      "cell_type": "code",
      "metadata": {
        "id": "hQmix_2sTPfx"
      },
      "source": [
        "# plotar gráfico com valores estimados"
      ],
      "execution_count": null,
      "outputs": []
    }
  ]
}